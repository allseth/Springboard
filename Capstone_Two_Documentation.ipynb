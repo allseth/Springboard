{
 "cells": [
  {
   "cell_type": "markdown",
   "id": "85aa46b0-2714-4a9e-98da-6332c85fc65e",
   "metadata": {},
   "source": [
    "![Be Fast Awareness](https://healthaware.com/wp-content/uploads/2023/02/be-fast-stroke-awareness@2x.png)"
   ]
  },
  {
   "cell_type": "markdown",
   "id": "aa39da21-0f17-4eaf-8627-cbcc2af03913",
   "metadata": {},
   "source": [
    "# Capstone Two: Predicting Stroke Risk\n",
    "\n",
    "## Problem Statement\n",
    "\n",
    "*Stroke is a serious medical condition that can have devastating consequences.\n",
    "In the United States, stroke ranks as the fifth leading cause of death and a primary source of long-term disability. According to the American Brain Foundation, every year, over 800,000 individuals experience a new or recurrent stroke, and unfortunately, at least 140,000 succumb to this disease. Can we develop a highly accurate predictive model for stroke occurence, utilizing a comprehensive set of patient data and advanced machine learning techniques?*"
   ]
  },
  {
   "attachments": {},
   "cell_type": "markdown",
   "id": "423099b1-4a0d-4d7c-abbf-8ff47bc7cd55",
   "metadata": {},
   "source": [
    "## Data Wrangling\n",
    "\n",
    "For this project, I utilized the **‘healthcare-dataset-stroke-data.csv’** dataset from Kaggle. The dataset comprises twelve columns, several of which contained missing data.\n",
    "\n",
    "* id\n",
    "* gender\n",
    "* age\n",
    "* hypertension\n",
    "* heart_disease\n",
    "* ever_married\n",
    "* work_type\n",
    "* Residence_type\n",
    "* avg_glucose_level\n",
    "* bmi\n",
    "* smoking_status\n",
    "* stroke\n",
    "\n",
    "To clean up the data, I removed the **‘id’** column, as it served solely as a unique identifier for each patient and was not relevant to the analysis. Additionally, I eliminated any instances with missing values to ensure data integrity and consistency.\n",
    "\n",
    "### Problems Encountered:\n",
    "* Age column had a few random values\n",
    "* BMI column had missing values\n",
    "* Work type, residence type, and smoking status had multiple entries\n",
    "\n",
    "### Problem Solution:\n",
    "* Applied .astype(float) to ensure all values under 'age' column matched\n",
    "* Iterated values under 'gender' and 'ever_married' columns\n",
    "* Applied get_dummies for the columns that had multiple values to create new binary columns"
   ]
  },
  {
   "cell_type": "markdown",
   "id": "e47a0f1a-89d2-4686-b831-6c40f7778aa8",
   "metadata": {},
   "source": [
    "### Exploratory Data Analysis\n",
    "In this phase, we delved into the data to uncover hidden connections between variables and stroke. "
   ]
  },
  {
   "cell_type": "markdown",
   "id": "09011d77-b08a-40cb-a154-d5d6e4ac704f",
   "metadata": {},
   "source": [
    "\n",
    "![Stroke Percentage](Stroke1.png)"
   ]
  },
  {
   "cell_type": "markdown",
   "id": "d4f98a39-6d26-4124-8d80-0dd8442874ea",
   "metadata": {},
   "source": [
    "Analysis of the **‘healthcare-dataset-stroke-data.csv'** dataset reveals a stroke prevalence of 4.3%, whereas a vast majority (95.7%) of patients did not suffer from stroke.\n",
    "After cleaning the data, we focused on 209 patients who had experienced a stroke."
   ]
  },
  {
   "cell_type": "markdown",
   "id": "315a8a80-e9db-445b-967f-f187b445f87a",
   "metadata": {},
   "source": [
    "![Correlation Between Stroke and Age](Stroke2.png)![Correlation1](Stroke3.png)![Correlation2](Stroke4.png)![Correlation3](Stroke5.png)"
   ]
  },
  {
   "cell_type": "markdown",
   "id": "a673705d-b70d-48cb-bc6e-82788a644eba",
   "metadata": {},
   "source": [
    "To find correlations among the dataset, we used a kernel density estimate (KDE) plot and a categorical plot. By doing so, it helps us visualize the given data."
   ]
  },
  {
   "cell_type": "markdown",
   "id": "9629e3c2-d2ea-457f-a846-54b463e7c24d",
   "metadata": {},
   "source": [
    "![Correlation4](Stroke6.png)"
   ]
  },
  {
   "cell_type": "markdown",
   "id": "f95ff424-7142-4966-b5a9-2aa4342fd875",
   "metadata": {},
   "source": [
    "To visualizate relationships across the dataset, we used a pair plot. This analysis revealed several key findings: \n",
    "* The distribution of age is skewed to the right, indication a higher concentration of individuals in the older age groups. There seems to be a positive correlation between age and stroke, as the scatterplot shows a general upward trend.\n",
    "* The scatterplots between hypertension, heart disease, and stroke suggest potential correlations, especially between hypertension and stroke.\n",
    "* There seems to be a positive correlation between average glucose level and stroke, however, it is less pronounced than the relationship between age and stroke.\n",
    "* BMI and stroke shows a relationship that is less definitive with a more scattered distribution."
   ]
  },
  {
   "cell_type": "markdown",
   "id": "d186ca9a-3665-4137-b97c-fd91c60269ce",
   "metadata": {},
   "source": [
    "**To ensure the accuracy of the data after analyzing the pair plot, a series of chi-squared tests was used to analyze the association between several variables (hypertension, heart_disease, ever_married, avg_glucose_level, bmi, and age) along with the 'stroke' variable was used.**\n",
    "\n",
    "![Correlation5](Stroke7.png)\n",
    "\n",
    "* Based on this chi-squared test, hypertension, heart_disease, ever_married, and age are significantly associated with stroke by the chi-squared statistics being relatively high and the p-values being very low.\n",
    "* The chi-squared statistics shows a weak correlation between BMI and stroke."
   ]
  },
  {
   "attachments": {},
   "cell_type": "markdown",
   "id": "96de4cb8-97c7-4f53-b32f-dbdc5440b6c2",
   "metadata": {},
   "source": [
    "**To further ensure the accuracy of the chi-squared tests, *Bonferroni Correction* was used along with the chi-squared test.**\n",
    "![Correlation6](Stroke8.png)"
   ]
  },
  {
   "cell_type": "markdown",
   "id": "1b7969d6-b1ed-4dd7-84dc-19533bec8c08",
   "metadata": {},
   "source": [
    "## Preprocessing and Training Data\n",
    "\n",
    "**To develop a robust machine learning model, we need to preprocess the data to ensure its quality and consistency. Then, by training the model on this prepared data, we can equip it to learn meaningful patterns and make accurate stroke predictions that generalize well to new, unseen data.**\n",
    "\n",
    "To do so, we identified categorical columns for encoding. The following columns were used for the preprocessing:\n",
    "* 'hypertension'\n",
    "* 'heart_disease'\n",
    "* 'ever_married'\n",
    "* 'avg_glucose_level_bin'\n",
    "* 'bmi_bin'\n",
    "* 'age_bin'\n",
    "\n",
    "### Preprocessing Results\n",
    "![Prep and Train](Stroke9.png)\n",
    "\n",
    "The output shapes confirm that the dataset has been split correctly and is well-prepared for training a machine learning model.\n",
    "* The training set has **3927** samples which will be beneficial for the model to learn the underlying patterns in the dataset.\n",
    "* The testing set has **982** samples has a reasonable size to evaluate meaningful performance matrics\n"
   ]
  },
  {
   "cell_type": "markdown",
   "id": "fc244d2e-2aaa-4555-8bf5-e6370b51fd3d",
   "metadata": {},
   "source": [
    "## Modeling\n",
    "**To determine which models to use to accurately predict the risk of stroke, I chose to test four types of models:**\n",
    "* Logistic Regression\n",
    "* Decision Tree Classifier\n",
    "* Random Forest Classifier\n",
    "* Gradiant Boosting Classifier\n",
    "\n",
    "While Logistic Regression exhibited the highest overall accuracy among the models evaluated, it encountered difficulties in accurately predicting certain classes, as evidenced by the ***'UndefinedMetricWarning'*** error. This suggests that the model might be struggling to capture the nuances of these specific classes, potentially due to factors such as class imbalance or insufficient data. Further investigation and potential adjustments to the model or data preprocessing was needed to address this issue and improve performance for all classes. Due to the persistent error, I applied Synthetic Minority Over-sampling Technique, or SMOTE.\n",
    "\n",
    "### Results for Each Model\n",
    "![Model](Stroke10.png)![Model2](Stroke11.png)\n",
    "\n",
    "The bar graph indicates that the Logistic Regression showed a significantly **lower accuracy (0.7424)** of predicting strokes compared to the other models.\n",
    "\n",
    "### HOWEVER\n",
    "![Model3](Stroke12.png)\n",
    "\n",
    "**In order to select the optimal model, we can compare the performance metrics across all models, including accuracy, precision, recall, F1-score, and ROC AUC. This comprehensive analysis  can determine the best model for the job.**\n",
    "\n"
   ]
  },
  {
   "cell_type": "markdown",
   "id": "2002ee7c-0322-474f-b175-e7b0fcd871d5",
   "metadata": {},
   "source": [
    "### Deep Dive Each Model\n",
    "* **Random Forest and Gradient Boosting** have the highest accuracy, indicating that they perform well overall.\n",
    "* **Gradient Boosting** has a precision of 1.000000 which indicates every positive prediction it makes will be correct. *However,* its recall is ZERO! Meaning that it does not identify any positive cases.\n",
    "* **Logistic Regression** has the highest recall, meaning that it identifies a large portion of actual positive cases.\n",
    "* **Logistic Regression** also has the best F1 score which indicates a better balance between precision and recall.\n",
    "* **Logistic Regression** ALSO has a decent ROC AUC score which indicates a good model discrimination ability.\n",
    "\n",
    "Therefore, to reduce the amount of false negatives and capture the best prediction as posible, **Logistic Regression** is the better choice."
   ]
  }
 ],
 "metadata": {
  "kernelspec": {
   "display_name": "Python 3 (ipykernel)",
   "language": "python",
   "name": "python3"
  },
  "language_info": {
   "codemirror_mode": {
    "name": "ipython",
    "version": 3
   },
   "file_extension": ".py",
   "mimetype": "text/x-python",
   "name": "python",
   "nbconvert_exporter": "python",
   "pygments_lexer": "ipython3",
   "version": "3.12.4"
  }
 },
 "nbformat": 4,
 "nbformat_minor": 5
}
